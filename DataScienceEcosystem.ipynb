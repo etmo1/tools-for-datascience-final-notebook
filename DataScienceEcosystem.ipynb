{
  "nbformat": 4,
  "nbformat_minor": 0,
  "metadata": {
    "colab": {
      "provenance": []
    },
    "kernelspec": {
      "name": "python3",
      "display_name": "Python 3"
    },
    "language_info": {
      "name": "python"
    }
  },
  "cells": [
    {
      "cell_type": "markdown",
      "source": [
        "#Data Science Tools and Ecosystem"
      ],
      "metadata": {
        "id": "AcMeVlOA5qof"
      }
    },
    {
      "cell_type": "markdown",
      "source": [
        "In this notebook, Data Science Tools and Ecosystem are summarized.\n"
      ],
      "metadata": {
        "id": "M4L26ies7RLW"
      }
    },
    {
      "cell_type": "markdown",
      "source": [
        "\n",
        "**Objectives** :\n",
        "* List popular languages for Data Science\n",
        "* Identify commonly used libraries for Data Science\n",
        "* Name popular Data Science tools\n",
        "* Evaluate arithmetic expressions in Python\n"
      ],
      "metadata": {
        "id": "_Azv4StbQQDt"
      }
    },
    {
      "cell_type": "markdown",
      "source": [
        "Some of the popular languages that Data Scientists use are:\n",
        "\n",
        "1. Python\n",
        "2. R\n",
        "3. Scala"
      ],
      "metadata": {
        "id": "E3tgfPT97cpE"
      }
    },
    {
      "cell_type": "markdown",
      "source": [
        "Some of the commonly used libraries used by Data Scientists include:\n",
        "1. Pandas\n",
        "2. numpy\n",
        "3. ggplot from R"
      ],
      "metadata": {
        "id": "SaTCOlPP8gDR"
      }
    },
    {
      "cell_type": "markdown",
      "source": [
        "## Some Data Science Tools\n",
        "\n",
        "| Data Science Tools     |\n",
        "|------------------------|\n",
        "| Jupyter Notebook       |\n",
        "| Apache Zeppelin        |\n",
        "| Spyder                 |\n"
      ],
      "metadata": {
        "id": "fZpA_wZB9gh9"
      }
    },
    {
      "cell_type": "markdown",
      "source": [
        "### Below are a few examples of evaluating arithmetic expressions in Python.\n",
        "\n",
        "####  Addition\n",
        "5 + 3\n",
        "\n",
        "####  Subtraction\n",
        "10 - 4\n",
        "\n",
        "####  Multiplication\n",
        "6 * 7\n",
        "\n",
        "####  Division\n",
        "20 / 5\n",
        "\n",
        "#### Modulo\n",
        "10 % 3"
      ],
      "metadata": {
        "id": "FhIVRqe7-_xx"
      }
    },
    {
      "cell_type": "code",
      "source": [
        "# This a simple arithmetic expression to mutiply then add integers\n",
        "\n",
        "(3*4)+5"
      ],
      "metadata": {
        "colab": {
          "base_uri": "https://localhost:8080/"
        },
        "id": "VN8a-H87AIU2",
        "outputId": "46d1ab0b-d4a4-4d7f-c224-80501636400c"
      },
      "execution_count": 2,
      "outputs": [
        {
          "output_type": "execute_result",
          "data": {
            "text/plain": [
              "17"
            ]
          },
          "metadata": {},
          "execution_count": 2
        }
      ]
    },
    {
      "cell_type": "code",
      "source": [
        "# This will convert 200 minutes to hours by diving by 60\n",
        "a = 200%60\n",
        "b = (200-a)/60\n",
        "print(f\"200 minutes in houres is  : {int(b)} houres and {a} minutes\")"
      ],
      "metadata": {
        "colab": {
          "base_uri": "https://localhost:8080/"
        },
        "id": "QYQP0ax7AYwf",
        "outputId": "4023ac80-5433-4f66-e506-9af9d9e578d4"
      },
      "execution_count": 7,
      "outputs": [
        {
          "output_type": "stream",
          "name": "stdout",
          "text": [
            "200 minutes in houres is  : 3 houres and 20 minutes\n"
          ]
        }
      ]
    },
    {
      "cell_type": "markdown",
      "source": [
        "## Author\n",
        "\n",
        "Ethmane Sid'El Hadj Lehbib"
      ],
      "metadata": {
        "id": "qfJVlRDh_AL_"
      }
    }
  ]
}